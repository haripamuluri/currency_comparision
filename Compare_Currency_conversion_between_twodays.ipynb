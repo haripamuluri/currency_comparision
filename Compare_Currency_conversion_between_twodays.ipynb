{
 "cells": [
  {
   "cell_type": "code",
   "execution_count": null,
   "metadata": {},
   "outputs": [],
   "source": [
    "from datetime import datetime, timedelta, date\n",
    "import requests"
   ]
  },
  {
   "cell_type": "code",
   "execution_count": null,
   "metadata": {},
   "outputs": [],
   "source": [
    "date = date.today()"
   ]
  },
  {
   "cell_type": "code",
   "execution_count": null,
   "metadata": {},
   "outputs": [],
   "source": [
    "def url_data(date):\n",
    "    url = 'https://api.exchangeratesapi.io/' + str(date) + '?base=SEK'\n",
    "    response = requests.get(url)\n",
    "    df = response.json()\n",
    "    currency_excange_rate_on_day = df['rates']\n",
    "    date = df['date']\n",
    "    return currency_excange_rate_on_day, date\n"
   ]
  },
  {
   "cell_type": "code",
   "execution_count": null,
   "metadata": {},
   "outputs": [],
   "source": [
    "def main(date):\n",
    "#     date = input('Enter date in YYYY-MM-DD format: ')\n",
    "#     date1 = datetime.strptime(date, '%Y-%m-%d').date()\n",
    "    date1 = date.today()\n",
    "    currency_exchange_rate_on_day1, date1 = url_data(date)\n",
    "\n",
    "    date_object = datetime.strptime(date1, '%Y-%m-%d').date()\n",
    "    date_2 = date_object - timedelta(days=1)  \n",
    "#     date2 = input('Enter date in YYYY-MM-DD format: ')\n",
    "    currency_excange_rate_on_day2, date = url_data(date_2)\n",
    "    change_in_currency = {k: currency_exchange_rate_on_day1[k] - currency_excange_rate_on_day2[k] for k in\n",
    "                            currency_exchange_rate_on_day1}\n",
    "    print(change_in_currency)\n",
    "    return change_in_currency"
   ]
  },
  {
   "cell_type": "code",
   "execution_count": null,
   "metadata": {},
   "outputs": [],
   "source": [
    "\n",
    "if __name__ == '__main__':\n",
    "    main(date)\n"
   ]
  },
  {
   "cell_type": "code",
   "execution_count": null,
   "metadata": {},
   "outputs": [],
   "source": []
  }
 ],
 "metadata": {
  "kernelspec": {
   "display_name": "Python 3",
   "language": "python",
   "name": "python3"
  },
  "language_info": {
   "codemirror_mode": {
    "name": "ipython",
    "version": 3
   },
   "file_extension": ".py",
   "mimetype": "text/x-python",
   "name": "python",
   "nbconvert_exporter": "python",
   "pygments_lexer": "ipython3",
   "version": "3.7.3"
  }
 },
 "nbformat": 4,
 "nbformat_minor": 2
}
