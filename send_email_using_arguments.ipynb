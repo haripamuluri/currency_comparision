{
 "cells": [
  {
   "cell_type": "code",
   "execution_count": null,
   "metadata": {},
   "outputs": [],
   "source": [
    "import os\n",
    "import re\n",
    "import zipfile\n",
    "import smtplib\n",
    "import argparse\n",
    "import getpass\n",
    "import sys\n",
    "from email.mime.base import MIMEBase\n",
    "from email.mime.text import MIMEText\n",
    "from email.mime.multipart import MIMEMultipart\n",
    "from email import encoders"
   ]
  },
  {
   "cell_type": "code",
   "execution_count": null,
   "metadata": {},
   "outputs": [],
   "source": [
    "parser = argparse.ArgumentParser()\n",
    "parser.add_argument('--mailid', help='send to')               #senders mail id\n",
    "parser.add_argument('--attachment', help='attachment file')\n",
    "args = parser.parse_args()"
   ]
  },
  {
   "cell_type": "code",
   "execution_count": null,
   "metadata": {},
   "outputs": [],
   "source": []
  },
  {
   "cell_type": "code",
   "execution_count": null,
   "metadata": {},
   "outputs": [],
   "source": [
    "from_address = \" \"       #Enter emailid\n",
    "password = getpass.getpass('Password for the email '+ from_address +' : ')\n",
    "server = smtplib.SMTP('smtp.gmail.com', 587)\n",
    "server.starttls()\n",
    "try:\n",
    "    server.login(from_address, password)\n",
    "except:\n",
    "    print('Invalid password')\n",
    "    sys.exit(1)\n",
    "\n",
    "sender = from_address\n",
    "to_address = args.mailid\n",
    "\n"
   ]
  },
  {
   "cell_type": "code",
   "execution_count": null,
   "metadata": {},
   "outputs": [],
   "source": [
    "path_of_files = args.attachment    #path of the folder    \"/home/harihara/Desktop/hari\"\n",
    "name_of_zip_file = \" \"  # Give a name to the zip file you want to send\n",
    "subject = \" \"           # Subject to email\n",
    "text = \" \"              # Enter text you want to send"
   ]
  },
  {
   "cell_type": "code",
   "execution_count": null,
   "metadata": {},
   "outputs": [],
   "source": [
    "# Create a Zip file\n",
    "def zip(src, dst):\n",
    "    zf = zipfile.ZipFile(\"%s.zip\" % (dst), \"w\")\n",
    "    src = os.path.abspath(src)\n",
    "    for d, s, f in os.walk(src):\n",
    "        for n in f:\n",
    "            if re.match(r\"^.*[.](py|ipynb|txt)$\", n):               #type of file you need to add\n",
    "                abs_name = os.path.abspath(os.path.join(d, n))\n",
    "                arc_name = abs_name[len(src) + 1:]\n",
    "                zf.write(abs_name, arc_name)\n",
    "    zf.close()"
   ]
  },
  {
   "cell_type": "code",
   "execution_count": null,
   "metadata": {},
   "outputs": [],
   "source": [
    "# Send gmail\n",
    "def sendMsg():\n",
    "    msg = MIMEMultipart()\n",
    "    msg['Subject'] = subject\n",
    "    msg['From'] = from_address\n",
    "\n",
    "    msg['To'] = to_address\n",
    "    msg.attach(MIMEText(text,'plain'))\n",
    "\n",
    "    part = MIMEBase(\"application\", \"octet-stream\")\n",
    "    part.set_payload(open(name_of_zip_file + \".zip\", \"rb\").read())\n",
    "    encoders.encode_base64(part)\n",
    "    part.add_header(\"Content-Disposition\", \"attachment; filename=\\\"%s.zip\\\"\" % (name_of_zip_file))\n",
    "    msg.attach(part)\n",
    "    \n",
    "    server.sendmail(sender, to_address, msg.as_string())\n",
    "    server.quit()"
   ]
  },
  {
   "cell_type": "code",
   "execution_count": null,
   "metadata": {},
   "outputs": [],
   "source": [
    "zip(path_of_files,name_of_zip_file)\n",
    "sendMsg()"
   ]
  }
 ],
 "metadata": {
  "kernelspec": {
   "display_name": "Python 3",
   "language": "python",
   "name": "python3"
  },
  "language_info": {
   "codemirror_mode": {
    "name": "ipython",
    "version": 3
   },
   "file_extension": ".py",
   "mimetype": "text/x-python",
   "name": "python",
   "nbconvert_exporter": "python",
   "pygments_lexer": "ipython3",
   "version": "3.7.3"
  }
 },
 "nbformat": 4,
 "nbformat_minor": 2
}
